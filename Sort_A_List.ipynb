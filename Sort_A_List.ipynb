{
 "cells": [
  {
   "cell_type": "code",
   "execution_count": 11,
   "metadata": {},
   "outputs": [],
   "source": [
    "def sortList(input_list, index = 0, count = 0):\n",
    "    '''\n",
    "        objective: to sort the list\n",
    "        input: list, index => iterator, count for tracking\n",
    "        output: sorted list\n",
    "    '''\n",
    "    # approach\n",
    "    # total rounds is len * len of inputed list\n",
    "    if(count != len(input_list) * len(input_list)):\n",
    "        if(index != len(input_list) - 1):\n",
    "            # swapping if a > b\n",
    "            if(input_list[index] > input_list[index + 1]):\n",
    "                temp = input_list[index + 1]\n",
    "                input_list[index + 1] = input_list[index]\n",
    "                input_list[index] = temp\n",
    "            return sortList(input_list, index + 1, count + 1)\n",
    "        else:\n",
    "            # setting index to 0 for next round\n",
    "            index = 0\n",
    "            return sortList(input_list, index + 1, count + 1)\n",
    "    else:\n",
    "        return input_list"
   ]
  },
  {
   "cell_type": "code",
   "execution_count": 12,
   "metadata": {},
   "outputs": [
    {
     "data": {
      "text/plain": [
       "[10, 15, 30, 40, 50]"
      ]
     },
     "execution_count": 12,
     "metadata": {},
     "output_type": "execute_result"
    }
   ],
   "source": [
    "mylist = [10, 30, 40, 50, 15]\n",
    "sortList(mylist)"
   ]
  },
  {
   "cell_type": "code",
   "execution_count": null,
   "metadata": {},
   "outputs": [],
   "source": []
  }
 ],
 "metadata": {
  "kernelspec": {
   "display_name": "Python 3",
   "language": "python",
   "name": "python3"
  },
  "language_info": {
   "codemirror_mode": {
    "name": "ipython",
    "version": 3
   },
   "file_extension": ".py",
   "mimetype": "text/x-python",
   "name": "python",
   "nbconvert_exporter": "python",
   "pygments_lexer": "ipython3",
   "version": "3.6.8"
  }
 },
 "nbformat": 4,
 "nbformat_minor": 2
}
