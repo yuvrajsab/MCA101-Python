{
 "cells": [
  {
   "cell_type": "code",
   "execution_count": 59,
   "metadata": {},
   "outputs": [],
   "source": [
    "def bubble(input_list, start, end, index = 0, counter = 0):\n",
    "    '''\n",
    "        objective: to bubble up the smallest element in list\n",
    "        inputs: list, starting_index, ending_index, min value in list\n",
    "        returns: list with bubble value\n",
    "    '''\n",
    "    # apporach\n",
    "    if (counter == 0):\n",
    "        index = start\n",
    "     \n",
    "    if (counter != ((end - start) ** 2)):\n",
    "        if(index != end):\n",
    "            if (input_list[index] < input_list[index + 1]):\n",
    "                temp = input_list[index]\n",
    "                input_list[index] = input_list[index + 1]\n",
    "                input_list[index + 1] = temp\n",
    "            return bubble(input_list, start, end, index + 1, counter + 1)\n",
    "        else:\n",
    "            index = start\n",
    "            return bubble(input_list, start, end, index, counter + 1)\n",
    "    else:\n",
    "        return input_list;"
   ]
  },
  {
   "cell_type": "code",
   "execution_count": 60,
   "metadata": {},
   "outputs": [
    {
     "data": {
      "text/plain": [
       "[10, 33, 50, 4, 0, 12, 1]"
      ]
     },
     "execution_count": 60,
     "metadata": {},
     "output_type": "execute_result"
    }
   ],
   "source": [
    "mylist = [10, 33, 0, 4, 50, 12, 1]\n",
    "bubble(mylist, 2, 4)"
   ]
  },
  {
   "cell_type": "code",
   "execution_count": null,
   "metadata": {
    "scrolled": true
   },
   "outputs": [],
   "source": []
  },
  {
   "cell_type": "code",
   "execution_count": null,
   "metadata": {},
   "outputs": [],
   "source": []
  }
 ],
 "metadata": {
  "kernelspec": {
   "display_name": "Python 3",
   "language": "python",
   "name": "python3"
  },
  "language_info": {
   "codemirror_mode": {
    "name": "ipython",
    "version": 3
   },
   "file_extension": ".py",
   "mimetype": "text/x-python",
   "name": "python",
   "nbconvert_exporter": "python",
   "pygments_lexer": "ipython3",
   "version": "3.6.5"
  }
 },
 "nbformat": 4,
 "nbformat_minor": 2
}
