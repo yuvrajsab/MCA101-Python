{
 "cells": [
  {
   "cell_type": "code",
   "execution_count": 4,
   "metadata": {},
   "outputs": [],
   "source": [
    "def insertList(input_list, new_value, index = 0):\n",
    "    '''\n",
    "        objective: inserting element in the sorted list\n",
    "        input: list, index\n",
    "        output: sorted list with new element\n",
    "    '''\n",
    "    #approach\n",
    "    if (index != len(input_list) - 1):\n",
    "        if (new_value >= input_list[index] and new_value < input_list[index + 1]):\n",
    "            input_list.insert(index + 1, new_value)\n",
    "        \n",
    "        return insertList(input_list, new_value, index + 1)\n",
    "    else:\n",
    "        return input_list\n",
    "    "
   ]
  },
  {
   "cell_type": "code",
   "execution_count": null,
   "metadata": {},
   "outputs": [],
   "source": [
    "mylist = [10, 30, 40, 50]\n",
    "insertList(mylist, 15)"
   ]
  },
  {
   "cell_type": "code",
   "execution_count": null,
   "metadata": {},
   "outputs": [],
   "source": []
  }
 ],
 "metadata": {
  "kernelspec": {
   "display_name": "Python 3",
   "language": "python",
   "name": "python3"
  },
  "language_info": {
   "codemirror_mode": {
    "name": "ipython",
    "version": 3
   },
   "file_extension": ".py",
   "mimetype": "text/x-python",
   "name": "python",
   "nbconvert_exporter": "python",
   "pygments_lexer": "ipython3",
   "version": "3.6.8"
  }
 },
 "nbformat": 4,
 "nbformat_minor": 2
}
