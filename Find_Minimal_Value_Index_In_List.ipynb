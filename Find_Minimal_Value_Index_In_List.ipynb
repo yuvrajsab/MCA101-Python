{
 "cells": [
  {
   "cell_type": "code",
   "execution_count": 25,
   "metadata": {},
   "outputs": [],
   "source": [
    "def findMinIndex(input_list, start, end, temp = 0, counter = 0):\n",
    "    '''\n",
    "        objective: to find min element index\n",
    "        inputs: list, starting index, ending index, temp value, counter\n",
    "        returns: index of max and min element\n",
    "    '''\n",
    "    # approach\n",
    "    if (counter == 0):\n",
    "        temp = input_list[start]\n",
    "        \n",
    "    if(start != end):\n",
    "        if (temp > input_list[start + 1]):\n",
    "            temp = input_list[start + 1]\n",
    "        return findMinIndex(input_list, start + 1, end, temp, counter + 1)\n",
    "    else:\n",
    "        return input_list.index(temp)"
   ]
  },
  {
   "cell_type": "code",
   "execution_count": 26,
   "metadata": {},
   "outputs": [
    {
     "data": {
      "text/plain": [
       "3"
      ]
     },
     "execution_count": 26,
     "metadata": {},
     "output_type": "execute_result"
    }
   ],
   "source": [
    "mylist = [15, 30, 40, 7, 3]\n",
    "findMinIndex(mylist, 0, 3)"
   ]
  },
  {
   "cell_type": "code",
   "execution_count": null,
   "metadata": {},
   "outputs": [],
   "source": []
  }
 ],
 "metadata": {
  "kernelspec": {
   "display_name": "Python 3",
   "language": "python",
   "name": "python3"
  },
  "language_info": {
   "codemirror_mode": {
    "name": "ipython",
    "version": 3
   },
   "file_extension": ".py",
   "mimetype": "text/x-python",
   "name": "python",
   "nbconvert_exporter": "python",
   "pygments_lexer": "ipython3",
   "version": "3.6.5"
  }
 },
 "nbformat": 4,
 "nbformat_minor": 2
}
